{
  "cells": [
    {
      "cell_type": "markdown",
      "metadata": {
        "id": "bDCg55zRqXPw"
      },
      "source": [
        "# **Introduction to Machine Learning**"
      ]
    },
    {
      "cell_type": "markdown",
      "metadata": {
        "id": "NWsc8ad_qXQY"
      },
      "source": [
        "Machine learning (ML) is a category of an algorithm that allows software applications to become more accurate in predicting \n",
        "outcomes without being explicitly programmed. \n",
        "The basic premise of machine learning is to build algorithms that can receive input data and use statistical analysis to predict an output while updating outputs as new data becomes available."
      ]
    },
    {
      "cell_type": "markdown",
      "metadata": {
        "id": "yiM0sxSKqXQc"
      },
      "source": [
        "The process starts with feeding good quality data and then training our machines by building machine learning models using the data and different algorithms. The choice of algorithms depends on what type of data do we have and what kind of task we are trying to automate."
      ]
    },
    {
      "cell_type": "markdown",
      "metadata": {
        "id": "GxOCTKP9qXQa"
      },
      "source": [
        "Machine learning is defined as the “Field of study that gives computers the capability to learn without being explicitly programmed”."
      ]
    },
    {
      "cell_type": "markdown",
      "metadata": {
        "id": "WAe580RAqXQd"
      },
      "source": [
        "<img src=\"https://files.codingninjas.in/untitled-document-2-7313.jpg\" width=\"700\">"
      ]
    },
    {
      "cell_type": "markdown",
      "metadata": {
        "id": "LxC5BDJ_wquA"
      },
      "source": [
        "# **Applications of Machine Learning**"
      ]
    },
    {
      "cell_type": "markdown",
      "metadata": {
        "id": "DKuLDyp3w1uS"
      },
      "source": [
        "We are using machine learning in our daily life even without knowing it such as Google Maps, Google assistant, Alexa, etc.\n",
        "Below are some most trending real-world applications of Machine Learning:\n",
        "1. Image Recognition\n",
        "2. Speech Recognition\n",
        "3. Product recommendations\n",
        "4. Self-driving cars\n",
        "5. Virtual Personal Assistant\n",
        "6. Automatic Language Translation"
      ]
    },
    {
      "cell_type": "markdown",
      "metadata": {
        "id": "dKVXdsgCqXQe"
      },
      "source": [
        "# **Types of Machine Learning**"
      ]
    },
    {
      "cell_type": "markdown",
      "metadata": {
        "id": "w23LnlbxqXQf"
      },
      "source": [
        " Machine learning implementations are classified into three major categories\n",
        "     1. Supervised Learning\n",
        "     2. Unsupervised Learning\n",
        "     3. Reinforcement learning\n",
        " "
      ]
    },
    {
      "cell_type": "markdown",
      "metadata": {
        "id": "ad-usPEDqXQg"
      },
      "source": [
        "## **Supervised Learning**"
      ]
    },
    {
      "cell_type": "markdown",
      "metadata": {
        "id": "kbBOaC4NqXQh"
      },
      "source": [
        "Supervised learning is based on supervision. The example of supervised learning is spam filtering."
      ]
    },
    {
      "cell_type": "markdown",
      "metadata": {
        "id": "bG6eagQ1qXQg"
      },
      "source": [
        "Supervised learning is an approach where the program is given labeled input data and the expected output.The model is trained until it can detect the underlying patterns and relationships, enabling it to yield good results when presented with never-before-seen data. \"Supervised learning is a technique in which we teach or train the machine using data which is well labeled\".\n"
      ]
    },
    {
      "cell_type": "markdown",
      "metadata": {
        "id": "sYVFPddaxjbh"
      },
      "source": [
        "### **Types of Supervised Learning**"
      ]
    },
    {
      "cell_type": "markdown",
      "metadata": {
        "id": "b27DVYVrxpMk"
      },
      "source": [
        "Supervised learning can be grouped further in two categories of algorithms:\n",
        " 1. **Classification** - Classification algorithms are used to predict or classify items into discrete valued groups such as Male or Female, True or False, Spam or Not Spam, etc.\n",
        "For instance, spam filtering algorithm is a classification problem where the task is to identify whether the mail is spam or not. \n",
        "A classification algorithm tries to determine the class or the category of the data it is presented with.\n",
        "\n",
        " 2. **Regression** - Regression tasks are different, as they expect the model to predict continuous data. For instance,       predicting click rates in online ads, predicting real estate prices or determining how much a customer would                    be willing to pay for a certain product."
      ]
    },
    {
      "cell_type": "markdown",
      "metadata": {
        "id": "7PSakOGiqXQl"
      },
      "source": [
        "### **Using Boston Housing Dataset**"
      ]
    },
    {
      "cell_type": "markdown",
      "metadata": {
        "id": "k5_cxIewqXQk"
      },
      "source": [
        "**Step 1** - Gathering data:\n",
        "        This step includes collecting the data because the quality and quantity of data that you gather will directly determine         how good your predictive model can be\n",
        "\n",
        "**Step 2** - Data Preprocessing:\n",
        "1. Cleaning the raw data -\n",
        "The data is collected in the real world and is converted to a clean data set. In other words,whenever the data is               gathered from different sources it is collected in a raw format and this data isn’t feasible for the analysis.\n",
        "Therefore, certain steps are executed to convert the data into a small clean data set.\n",
        "2. Missing Data - \n",
        "Missing data can be found when it is not continuously created or due to technical issues in the                                 application\n",
        "3. Conversion of data -\n",
        "Machine Learning models can only handle numeric features, hence categorical and ordinal data must be                             somehow converted into numeric features.\n",
        "\n",
        "**Step 3** - Training the Data:\n",
        "        This stage always begins by splitting the data set into two parts, training data and testing data. The training data             will be used to build and analyze the model.\n",
        "\n",
        "**Step 4** - Evalutaion:\n",
        "        After building a model by using the training data set, it is finally time to put the model to a test. The testing data           set is used to check the efficiency of the model and how accurately it can predict the outcome.\n",
        "        \n"
      ]
    },
    {
      "cell_type": "code",
      "execution_count": null,
      "metadata": {
        "id": "3wEyj3REqXQn"
      },
      "outputs": [],
      "source": [
        "from sklearn import datasets"
      ]
    },
    {
      "cell_type": "markdown",
      "metadata": {
        "id": "v-n7UyNHqXQm"
      },
      "source": [
        "First step is to gather the data. Here we will use the Boston Housing Dataset. It is present in the datasets of sklearn. The dataset comes from the real estate industry in Boston (US). This is a regression problem. The data has 506 rows and 14 columns."
      ]
    },
    {
      "cell_type": "code",
      "execution_count": null,
      "metadata": {
        "id": "3PK48FFIqXQo"
      },
      "outputs": [],
      "source": [
        "# Loading the dataset\n",
        "boston = datasets.load_boston() \n",
        "X = boston.data\n",
        "Y = boston.target"
      ]
    },
    {
      "cell_type": "code",
      "execution_count": null,
      "metadata": {
        "colab": {
          "base_uri": "https://localhost:8080/"
        },
        "id": "XPtn-d1wqXQo",
        "outputId": "339b7a01-0aa2-4efa-94b8-c14185a2c992"
      },
      "outputs": [
        {
          "data": {
            "text/plain": [
              "(506, 13)"
            ]
          },
          "execution_count": 4,
          "metadata": {
            "tags": []
          },
          "output_type": "execute_result"
        }
      ],
      "source": [
        "X.shape"
      ]
    },
    {
      "cell_type": "code",
      "execution_count": null,
      "metadata": {
        "id": "mieaHVa3qXQr"
      },
      "outputs": [],
      "source": [
        "import pandas as pd\n",
        "df = pd.DataFrame(X)"
      ]
    },
    {
      "cell_type": "code",
      "execution_count": null,
      "metadata": {
        "colab": {
          "base_uri": "https://localhost:8080/",
          "height": 304
        },
        "id": "9bIFCxiTqXQr",
        "outputId": "1697e1fe-2639-427e-eb15-738095da2c79"
      },
      "outputs": [
        {
          "data": {
            "text/html": [
              "<div>\n",
              "<style scoped>\n",
              "    .dataframe tbody tr th:only-of-type {\n",
              "        vertical-align: middle;\n",
              "    }\n",
              "\n",
              "    .dataframe tbody tr th {\n",
              "        vertical-align: top;\n",
              "    }\n",
              "\n",
              "    .dataframe thead th {\n",
              "        text-align: right;\n",
              "    }\n",
              "</style>\n",
              "<table border=\"1\" class=\"dataframe\">\n",
              "  <thead>\n",
              "    <tr style=\"text-align: right;\">\n",
              "      <th></th>\n",
              "      <th>CRIM</th>\n",
              "      <th>ZN</th>\n",
              "      <th>INDUS</th>\n",
              "      <th>CHAS</th>\n",
              "      <th>NOX</th>\n",
              "      <th>RM</th>\n",
              "      <th>AGE</th>\n",
              "      <th>DIS</th>\n",
              "      <th>RAD</th>\n",
              "      <th>TAX</th>\n",
              "      <th>PTRATIO</th>\n",
              "      <th>B</th>\n",
              "      <th>LSTAT</th>\n",
              "    </tr>\n",
              "  </thead>\n",
              "  <tbody>\n",
              "    <tr>\n",
              "      <th>count</th>\n",
              "      <td>506.000000</td>\n",
              "      <td>506.000000</td>\n",
              "      <td>506.000000</td>\n",
              "      <td>506.000000</td>\n",
              "      <td>506.000000</td>\n",
              "      <td>506.000000</td>\n",
              "      <td>506.000000</td>\n",
              "      <td>506.000000</td>\n",
              "      <td>506.000000</td>\n",
              "      <td>506.000000</td>\n",
              "      <td>506.000000</td>\n",
              "      <td>506.000000</td>\n",
              "      <td>506.000000</td>\n",
              "    </tr>\n",
              "    <tr>\n",
              "      <th>mean</th>\n",
              "      <td>3.613524</td>\n",
              "      <td>11.363636</td>\n",
              "      <td>11.136779</td>\n",
              "      <td>0.069170</td>\n",
              "      <td>0.554695</td>\n",
              "      <td>6.284634</td>\n",
              "      <td>68.574901</td>\n",
              "      <td>3.795043</td>\n",
              "      <td>9.549407</td>\n",
              "      <td>408.237154</td>\n",
              "      <td>18.455534</td>\n",
              "      <td>356.674032</td>\n",
              "      <td>12.653063</td>\n",
              "    </tr>\n",
              "    <tr>\n",
              "      <th>std</th>\n",
              "      <td>8.601545</td>\n",
              "      <td>23.322453</td>\n",
              "      <td>6.860353</td>\n",
              "      <td>0.253994</td>\n",
              "      <td>0.115878</td>\n",
              "      <td>0.702617</td>\n",
              "      <td>28.148861</td>\n",
              "      <td>2.105710</td>\n",
              "      <td>8.707259</td>\n",
              "      <td>168.537116</td>\n",
              "      <td>2.164946</td>\n",
              "      <td>91.294864</td>\n",
              "      <td>7.141062</td>\n",
              "    </tr>\n",
              "    <tr>\n",
              "      <th>min</th>\n",
              "      <td>0.006320</td>\n",
              "      <td>0.000000</td>\n",
              "      <td>0.460000</td>\n",
              "      <td>0.000000</td>\n",
              "      <td>0.385000</td>\n",
              "      <td>3.561000</td>\n",
              "      <td>2.900000</td>\n",
              "      <td>1.129600</td>\n",
              "      <td>1.000000</td>\n",
              "      <td>187.000000</td>\n",
              "      <td>12.600000</td>\n",
              "      <td>0.320000</td>\n",
              "      <td>1.730000</td>\n",
              "    </tr>\n",
              "    <tr>\n",
              "      <th>25%</th>\n",
              "      <td>0.082045</td>\n",
              "      <td>0.000000</td>\n",
              "      <td>5.190000</td>\n",
              "      <td>0.000000</td>\n",
              "      <td>0.449000</td>\n",
              "      <td>5.885500</td>\n",
              "      <td>45.025000</td>\n",
              "      <td>2.100175</td>\n",
              "      <td>4.000000</td>\n",
              "      <td>279.000000</td>\n",
              "      <td>17.400000</td>\n",
              "      <td>375.377500</td>\n",
              "      <td>6.950000</td>\n",
              "    </tr>\n",
              "    <tr>\n",
              "      <th>50%</th>\n",
              "      <td>0.256510</td>\n",
              "      <td>0.000000</td>\n",
              "      <td>9.690000</td>\n",
              "      <td>0.000000</td>\n",
              "      <td>0.538000</td>\n",
              "      <td>6.208500</td>\n",
              "      <td>77.500000</td>\n",
              "      <td>3.207450</td>\n",
              "      <td>5.000000</td>\n",
              "      <td>330.000000</td>\n",
              "      <td>19.050000</td>\n",
              "      <td>391.440000</td>\n",
              "      <td>11.360000</td>\n",
              "    </tr>\n",
              "    <tr>\n",
              "      <th>75%</th>\n",
              "      <td>3.677083</td>\n",
              "      <td>12.500000</td>\n",
              "      <td>18.100000</td>\n",
              "      <td>0.000000</td>\n",
              "      <td>0.624000</td>\n",
              "      <td>6.623500</td>\n",
              "      <td>94.075000</td>\n",
              "      <td>5.188425</td>\n",
              "      <td>24.000000</td>\n",
              "      <td>666.000000</td>\n",
              "      <td>20.200000</td>\n",
              "      <td>396.225000</td>\n",
              "      <td>16.955000</td>\n",
              "    </tr>\n",
              "    <tr>\n",
              "      <th>max</th>\n",
              "      <td>88.976200</td>\n",
              "      <td>100.000000</td>\n",
              "      <td>27.740000</td>\n",
              "      <td>1.000000</td>\n",
              "      <td>0.871000</td>\n",
              "      <td>8.780000</td>\n",
              "      <td>100.000000</td>\n",
              "      <td>12.126500</td>\n",
              "      <td>24.000000</td>\n",
              "      <td>711.000000</td>\n",
              "      <td>22.000000</td>\n",
              "      <td>396.900000</td>\n",
              "      <td>37.970000</td>\n",
              "    </tr>\n",
              "  </tbody>\n",
              "</table>\n",
              "</div>"
            ],
            "text/plain": [
              "             CRIM          ZN       INDUS  ...     PTRATIO           B       LSTAT\n",
              "count  506.000000  506.000000  506.000000  ...  506.000000  506.000000  506.000000\n",
              "mean     3.613524   11.363636   11.136779  ...   18.455534  356.674032   12.653063\n",
              "std      8.601545   23.322453    6.860353  ...    2.164946   91.294864    7.141062\n",
              "min      0.006320    0.000000    0.460000  ...   12.600000    0.320000    1.730000\n",
              "25%      0.082045    0.000000    5.190000  ...   17.400000  375.377500    6.950000\n",
              "50%      0.256510    0.000000    9.690000  ...   19.050000  391.440000   11.360000\n",
              "75%      3.677083   12.500000   18.100000  ...   20.200000  396.225000   16.955000\n",
              "max     88.976200  100.000000   27.740000  ...   22.000000  396.900000   37.970000\n",
              "\n",
              "[8 rows x 13 columns]"
            ]
          },
          "execution_count": 6,
          "metadata": {
            "tags": []
          },
          "output_type": "execute_result"
        }
      ],
      "source": [
        "# Viewing the data in the form of a dataframe\n",
        "df.columns = boston.feature_names\n",
        "df.describe()"
      ]
    },
    {
      "cell_type": "markdown",
      "metadata": {
        "id": "Aa-xxwZUqXQt"
      },
      "source": [
        "The next step is to clean the data, but the data here is already cleaned so we will move further to the third step, which is training the model."
      ]
    },
    {
      "cell_type": "code",
      "execution_count": null,
      "metadata": {
        "id": "NoGefLWyqXQt"
      },
      "outputs": [],
      "source": [
        "# Splitting the data into test and train data\n",
        "from sklearn import model_selection\n",
        "X_train, X_test, Y_train, Y_test = model_selection.train_test_split(X, Y)"
      ]
    },
    {
      "cell_type": "code",
      "execution_count": null,
      "metadata": {
        "colab": {
          "base_uri": "https://localhost:8080/"
        },
        "id": "GLvcMnHWqXQu",
        "outputId": "3f3afb92-d4fb-48b7-9ae2-616149802885"
      },
      "outputs": [
        {
          "name": "stdout",
          "output_type": "stream",
          "text": [
            "(379, 13)\n",
            "(127, 13)\n",
            "(379,)\n",
            "(127,)\n"
          ]
        }
      ],
      "source": [
        "# Checking the shape of the data\n",
        "print(X_train.shape)\n",
        "print(X_test.shape)\n",
        "print(Y_train.shape)\n",
        "print(Y_test.shape)"
      ]
    },
    {
      "cell_type": "code",
      "execution_count": null,
      "metadata": {
        "id": "tobdNtsXqXQv"
      },
      "outputs": [],
      "source": [
        "# Using sklearn to import the classifier\n",
        "from sklearn.linear_model import LinearRegression\n",
        "alg1 = LinearRegression()"
      ]
    },
    {
      "cell_type": "code",
      "execution_count": null,
      "metadata": {
        "colab": {
          "base_uri": "https://localhost:8080/"
        },
        "id": "pF0V02RpqXQv",
        "outputId": "f3456433-1179-408b-d63e-2790e5ddef51"
      },
      "outputs": [
        {
          "data": {
            "text/plain": [
              "LinearRegression(copy_X=True, fit_intercept=True, n_jobs=None, normalize=False)"
            ]
          },
          "execution_count": 10,
          "metadata": {
            "tags": []
          },
          "output_type": "execute_result"
        }
      ],
      "source": [
        "# Fitting the data\n",
        "alg1.fit(X_train,Y_train)"
      ]
    },
    {
      "cell_type": "code",
      "execution_count": null,
      "metadata": {
        "id": "j7r6OMfmqXQw"
      },
      "outputs": [],
      "source": [
        "Y_pred = alg1.predict(X_test)"
      ]
    },
    {
      "cell_type": "markdown",
      "metadata": {
        "id": "jHjO5qTSqXQw"
      },
      "source": [
        "As our model is trained, we will now predict the output and compare it with the actual output. We will plot the actual vs predicted output \n",
        "\n"
      ]
    },
    {
      "cell_type": "code",
      "execution_count": null,
      "metadata": {
        "colab": {
          "base_uri": "https://localhost:8080/",
          "height": 283
        },
        "id": "4cGOUvy9qXQx",
        "outputId": "449ef687-ada5-459d-bfdb-a42aa3bb62c4"
      },
      "outputs": [
        {
          "data": {
            "image/png": "[encoded data removed]",
            "text/plain": [
              "<Figure size 432x288 with 1 Axes>"
            ]
          },
          "metadata": {
            "needs_background": "light",
            "tags": []
          },
          "output_type": "display_data"
        }
      ],
      "source": [
        "import matplotlib.pyplot as plt\n",
        "plt.scatter(Y_pred,Y_test)\n",
        "plt.xlabel(\"Predictions\")\n",
        "plt.ylabel(\"Testing Data\")\n",
        "plt.axis([0,40,0,40])\n",
        "plt.show()"
      ]
    },
    {
      "cell_type": "markdown",
      "metadata": {
        "id": "h-0OB4AuqXQy"
      },
      "source": [
        "# **Unsupervised Learning**"
      ]
    },
    {
      "cell_type": "markdown",
      "metadata": {
        "id": "0Y-hzhDPqXQy"
      },
      "source": [
        "Unsupervised learning is a learning method in which a machine learns without any supervision.\n",
        "The training is provided to the machine with the set of data that has not been labeled, classified, or categorized, and the algorithm needs to act on that data without any supervision. The goal of unsupervised learning is to restructure the input data into new features or a group of objects with similar patterns.\n",
        "\n",
        "Examples:\n",
        "1. Feature selection\n",
        "2. Anomaly detection\n",
        "3. Pattern recognition \n",
        "4. Data Mining"
      ]
    },
    {
      "cell_type": "markdown",
      "metadata": {
        "id": "V0TShisQqXQz"
      },
      "source": [
        "# **Reinforcement Learning**"
      ]
    },
    {
      "cell_type": "markdown",
      "metadata": {
        "id": "zLPMr-ScqXQz"
      },
      "source": [
        "Reinforcement learning is a feedback-based learning method, in which a learning agent gets a reward for each right action and gets a penalty for each wrong action. The agent learns automatically with these feedbacks and improves its performance. In reinforcement learning, the agent interacts with the environment and explores it. The goal of an agent is to get the most reward points, and hence, it improves its performance.\n",
        "\n",
        "Examples:\n",
        "1. Robotics\n",
        "2. Text Mining\n",
        "3. Trade execution"
      ]
    },
    {
      "cell_type": "markdown",
      "metadata": {},
      "source": [
        "<h2>Code in VIDEO</h2>"
      ]
    },
    {
      "cell_type": "code",
      "execution_count": null,
      "metadata": {},
      "outputs": [],
      "source": [
        "from sklearn import datasets\n",
        "data = datasets.load_boston()\n",
        "print(type(data))"
      ]
    },
    {
      "cell_type": "code",
      "execution_count": 3,
      "metadata": {},
      "outputs": [
        {
          "name": "stdout",
          "output_type": "stream",
          "text": [
            "<class 'numpy.ndarray'>\n",
            "(506, 13)\n"
          ]
        }
      ],
      "source": [
        "boston = datasets.load_boston()\n",
        "X = boston.data\n",
        "Y = boston.target\n",
        "print(type(X))\n",
        "print(X.shape) #13 features and 506 infrigments"
      ]
    },
    {
      "cell_type": "code",
      "execution_count": 4,
      "metadata": {},
      "outputs": [
        {
          "name": "stdout",
          "output_type": "stream",
          "text": [
            "['CRIM' 'ZN' 'INDUS' 'CHAS' 'NOX' 'RM' 'AGE' 'DIS' 'RAD' 'TAX' 'PTRATIO'\n",
            " 'B' 'LSTAT']\n"
          ]
        }
      ],
      "source": [
        "import pandas as pd\n",
        "df = pd.DataFrame(X)\n",
        "print(boston.feature_names)\n",
        "df.columns = boston.feature_names\n",
        "df.describe()"
      ]
    },
    {
      "cell_type": "code",
      "execution_count": 13,
      "metadata": {},
      "outputs": [
        {
          "name": "stdout",
          "output_type": "stream",
          "text": [
            "[[4.5270e-02 0.0000e+00 1.1930e+01 ... 2.1000e+01 3.9690e+02 9.0800e+00]\n",
            " [1.5010e-02 9.0000e+01 1.2100e+00 ... 1.3600e+01 3.9552e+02 3.1600e+00]\n",
            " [1.4103e-01 0.0000e+00 1.3920e+01 ... 1.6000e+01 3.9690e+02 1.5840e+01]\n",
            " ...\n",
            " [1.1504e-01 0.0000e+00 2.8900e+00 ... 1.8000e+01 3.9183e+02 1.1340e+01]\n",
            " [1.3810e-02 8.0000e+01 4.6000e-01 ... 1.4400e+01 3.9423e+02 2.9700e+00]\n",
            " [2.9916e-01 2.0000e+01 6.9600e+00 ... 1.8600e+01 3.8865e+02 1.3000e+01]]   [[1.0574e-01 0.0000e+00 2.7740e+01 ... 2.0100e+01 3.9011e+02 1.8070e+01]\n",
            " [9.8490e-02 0.0000e+00 2.5650e+01 ... 1.9100e+01 3.7938e+02 1.7580e+01]\n",
            " [3.1533e-01 0.0000e+00 6.2000e+00 ... 1.7400e+01 3.8505e+02 4.1400e+00]\n",
            " ...\n",
            " [2.7310e-02 0.0000e+00 7.0700e+00 ... 1.7800e+01 3.9690e+02 9.1400e+00]\n",
            " [8.3870e-02 0.0000e+00 1.2830e+01 ... 1.8700e+01 3.9606e+02 9.1000e+00]\n",
            " [1.7004e-01 1.2500e+01 7.8700e+00 ... 1.5200e+01 3.8671e+02 1.7100e+01]]   [20.6 50.  20.3 23.7 23.8 18.4 27.1 19.5 24.8 32.4 23.2 14.4 17.1 20.4\n",
            "  8.4 24.7 37.6 17.1 26.6 22.7 50.  20.6 15.4 10.2 23.2 20.  19.3 10.5\n",
            " 19.4 12.8 29.  20.  13.8 15.  24.5 21.4 23.9 14.  29.9 17.8 19.1 20.9\n",
            " 19.3 23.1 43.5 23.1 21.7 18.5 16.1 20.6 28.2 18.9 23.3 15.3 20.3 17.8\n",
            " 24.1 19.9 14.5 36.5 28.7 14.4 31.7 20.8 20.7 20.1 21.7  5.  13.1 21.2\n",
            " 28.1 25.2 13.1 12.6 22.4 24.  22.6 36.1 23.3 11.9 22.9 25.3 21.2 20.5\n",
            " 50.  11.5 20.3 17.5 43.8 23.9 22.2 30.8 10.4 17.8  8.7 29.1 18.2 21.\n",
            " 23.9 21.  35.1 23.9 50.  13.8 22.9 15.6 22.  29.8 23.8 19.6 13.9  9.5\n",
            " 17.2 34.9 14.3 23.4 19.9 30.1 22.9 10.2 21.6 23.9 15.1 23.   8.8 22.2\n",
            " 18.7 13.8 27.5 29.  24.2 31.6 22.6 23.1 16.6  7.  22.8 24.5 23.1 15.\n",
            " 32.  31.  31.1 23.7 18.5  5.6 32.9 14.6 21.9 32.  26.2 25.  21.8 19.2\n",
            " 32.2 19.9 17.8 22.  10.9 20.8 23.1 24.8 17.2 19.  15.2 23.  19.3 22.3\n",
            " 30.1 36.2 33.3 21.7 20.6 22.6 23.7 22.1  8.3 39.8  7.  28.6  7.5 33.2\n",
            " 14.2 31.6  5.  34.9 20.1 23.2  8.8 22.8 21.4  8.5 12.1 15.2 18.9 28.\n",
            " 18.2 14.1 11.3 22.9 41.3 33.2 21.7 21.5 20.1  6.3 23.6  7.2 14.9 36.2\n",
            " 22.  19.8 18.7 17.4 13.3 33.1 33.4 15.  29.6 22.3 36.4 21.5 23.5 30.1\n",
            " 33.1 16.3 13.6 26.4 21.2 12.3 22.5 20.  22.2 13.1 48.3 24.6 11.8 19.4\n",
            " 21.2 22.  19.5 48.8 24.3 13.2 20.1 19.5 10.5 19.9 13.1 20.4 18.6 14.5\n",
            " 19.6 29.4 31.5 37.9 19.2 13.9 25.  38.7 13.4 23.3 20.2 10.9 20.2 18.1\n",
            "  8.4 19.4 22.8 19.  24.4 13.4 18.2 26.5 20.8 16.  19.6 19.1 19.3 21.1\n",
            " 12.7 13.8 41.7  8.3 20.  34.9 20.9 20.1 24.3 29.8 25.  13.4 24.4 18.9\n",
            " 17.2 28.4 23.2 20.4 20.6 21.7 14.1 11.7 17.6 21.2 21.  24.4 19.6 13.4\n",
            " 24.8 11.7 21.7 50.   8.5 42.8 26.6 16.2 24.7 13.3 19.4 25.  18.8 27.9\n",
            " 26.7 15.6 50.  30.5 18.3 10.4 42.3 23.8 10.2 17.8 37.3 13.3 16.1 37.\n",
            " 28.4 24.  25.  15.6 35.4 36.  18.3 50.  24.1 17.  45.4 10.8 34.6 32.7\n",
            " 14.9 26.4 21.9 13.  19.7 22.4 22.2 22.  50.  50.  20.5 16.6 16.4 19.6\n",
            " 17.3 18.7 20.  25.  30.3 31.5 21.4 12.7 23.  19.7 26.6 22.6 21.4 50.\n",
            " 21.1]   [13.6 18.8 44.8 20.4 18.4 19.1 24.7 23.1 17.1 20.6 14.8 18.5 22.  24.3\n",
            " 11.  16.5 24.6 27.9  7.2 22.5 48.5 21.8 15.7 18.  15.6 16.8 11.9 44.\n",
            " 50.  30.7 35.2 33.4 23.8 27.5 22.5 18.6 50.  25.  50.  14.6 23.  25.\n",
            " 16.7 16.7 43.1 28.5 23.7 16.5  7.2 27.  27.1 31.2 13.5 19.1 50.  23.6\n",
            " 18.5 23.4 50.  22.8 22.   7.4 23.3 50.  13.8 12.5 14.9 19.4 22.2 37.2\n",
            " 35.4 28.7 17.7 22.6 17.4 15.4 28.7 16.8 29.6 13.5 21.4 20.7 14.3 17.4\n",
            " 46.  22.7 14.1 24.8 32.5 17.9 33.8 19.3 19.8 21.7 11.8 23.1 16.1 27.5\n",
            "  8.1 21.9 33.  18.4  9.7 27.5 17.5 20.5  9.6 46.7 14.5 24.4 25.1 19.4\n",
            " 19.5 19.8 17.5 12.  24.1 15.2 12.7 16.2 24.5 15.6 29.1 34.7 21.6 20.3\n",
            " 18.9]\n"
          ]
        }
      ],
      "source": [
        "# Splitting the data into test and train data\n",
        "from sklearn import model_selection\n",
        "X_train, X_test, Y_train, Y_test = model_selection.train_test_split(X, Y)\n",
        "print(X_train,\" \",X_test,\" \", Y_train,\" \",Y_test)"
      ]
    },
    {
      "cell_type": "code",
      "execution_count": 14,
      "metadata": {},
      "outputs": [
        {
          "name": "stdout",
          "output_type": "stream",
          "text": [
            "(379, 13)\n",
            "(127, 13)\n",
            "(379,)\n",
            "(127,)\n"
          ]
        }
      ],
      "source": [
        "# Checking the shape of the data\n",
        "print(X_train.shape)\n",
        "print(X_test.shape)\n",
        "print(Y_train.shape)\n",
        "print(Y_test.shape)"
      ]
    },
    {
      "cell_type": "code",
      "execution_count": 16,
      "metadata": {},
      "outputs": [
        {
          "name": "stdout",
          "output_type": "stream",
          "text": [
            "LinearRegression()\n"
          ]
        }
      ],
      "source": [
        "# Using sklearn to import the classifier\n",
        "from sklearn.linear_model import LinearRegression\n",
        "alg1 = LinearRegression()\n",
        "print(alg1)"
      ]
    },
    {
      "cell_type": "code",
      "execution_count": 17,
      "metadata": {},
      "outputs": [
        {
          "data": {
            "text/html": [
              "<style>#sk-container-id-1 {color: black;background-color: white;}#sk-container-id-1 pre{padding: 0;}#sk-container-id-1 div.sk-toggleable {background-color: white;}#sk-container-id-1 label.sk-toggleable__label {cursor: pointer;display: block;width: 100%;margin-bottom: 0;padding: 0.3em;box-sizing: border-box;text-align: center;}#sk-container-id-1 label.sk-toggleable__label-arrow:before {content: \"▸\";float: left;margin-right: 0.25em;color: #696969;}#sk-container-id-1 label.sk-toggleable__label-arrow:hover:before {color: black;}#sk-container-id-1 div.sk-estimator:hover label.sk-toggleable__label-arrow:before {color: black;}#sk-container-id-1 div.sk-toggleable__content {max-height: 0;max-width: 0;overflow: hidden;text-align: left;background-color: #f0f8ff;}#sk-container-id-1 div.sk-toggleable__content pre {margin: 0.2em;color: black;border-radius: 0.25em;background-color: #f0f8ff;}#sk-container-id-1 input.sk-toggleable__control:checked~div.sk-toggleable__content {max-height: 200px;max-width: 100%;overflow: auto;}#sk-container-id-1 input.sk-toggleable__control:checked~label.sk-toggleable__label-arrow:before {content: \"▾\";}#sk-container-id-1 div.sk-estimator input.sk-toggleable__control:checked~label.sk-toggleable__label {background-color: #d4ebff;}#sk-container-id-1 div.sk-label input.sk-toggleable__control:checked~label.sk-toggleable__label {background-color: #d4ebff;}#sk-container-id-1 input.sk-hidden--visually {border: 0;clip: rect(1px 1px 1px 1px);clip: rect(1px, 1px, 1px, 1px);height: 1px;margin: -1px;overflow: hidden;padding: 0;position: absolute;width: 1px;}#sk-container-id-1 div.sk-estimator {font-family: monospace;background-color: #f0f8ff;border: 1px dotted black;border-radius: 0.25em;box-sizing: border-box;margin-bottom: 0.5em;}#sk-container-id-1 div.sk-estimator:hover {background-color: #d4ebff;}#sk-container-id-1 div.sk-parallel-item::after {content: \"\";width: 100%;border-bottom: 1px solid gray;flex-grow: 1;}#sk-container-id-1 div.sk-label:hover label.sk-toggleable__label {background-color: #d4ebff;}#sk-container-id-1 div.sk-serial::before {content: \"\";position: absolute;border-left: 1px solid gray;box-sizing: border-box;top: 0;bottom: 0;left: 50%;z-index: 0;}#sk-container-id-1 div.sk-serial {display: flex;flex-direction: column;align-items: center;background-color: white;padding-right: 0.2em;padding-left: 0.2em;position: relative;}#sk-container-id-1 div.sk-item {position: relative;z-index: 1;}#sk-container-id-1 div.sk-parallel {display: flex;align-items: stretch;justify-content: center;background-color: white;position: relative;}#sk-container-id-1 div.sk-item::before, #sk-container-id-1 div.sk-parallel-item::before {content: \"\";position: absolute;border-left: 1px solid gray;box-sizing: border-box;top: 0;bottom: 0;left: 50%;z-index: -1;}#sk-container-id-1 div.sk-parallel-item {display: flex;flex-direction: column;z-index: 1;position: relative;background-color: white;}#sk-container-id-1 div.sk-parallel-item:first-child::after {align-self: flex-end;width: 50%;}#sk-container-id-1 div.sk-parallel-item:last-child::after {align-self: flex-start;width: 50%;}#sk-container-id-1 div.sk-parallel-item:only-child::after {width: 0;}#sk-container-id-1 div.sk-dashed-wrapped {border: 1px dashed gray;margin: 0 0.4em 0.5em 0.4em;box-sizing: border-box;padding-bottom: 0.4em;background-color: white;}#sk-container-id-1 div.sk-label label {font-family: monospace;font-weight: bold;display: inline-block;line-height: 1.2em;}#sk-container-id-1 div.sk-label-container {text-align: center;}#sk-container-id-1 div.sk-container {/* jupyter's `normalize.less` sets `[hidden] { display: none; }` but bootstrap.min.css set `[hidden] { display: none !important; }` so we also need the `!important` here to be able to override the default hidden behavior on the sphinx rendered scikit-learn.org. See: https://github.com/scikit-learn/scikit-learn/issues/21755 */display: inline-block !important;position: relative;}#sk-container-id-1 div.sk-text-repr-fallback {display: none;}</style><div id=\"sk-container-id-1\" class=\"sk-top-container\"><div class=\"sk-text-repr-fallback\"><pre>LinearRegression()</pre><b>In a Jupyter environment, please rerun this cell to show the HTML representation or trust the notebook. <br />On GitHub, the HTML representation is unable to render, please try loading this page with nbviewer.org.</b></div><div class=\"sk-container\" hidden><div class=\"sk-item\"><div class=\"sk-estimator sk-toggleable\"><input class=\"sk-toggleable__control sk-hidden--visually\" id=\"sk-estimator-id-1\" type=\"checkbox\" checked><label for=\"sk-estimator-id-1\" class=\"sk-toggleable__label sk-toggleable__label-arrow\">LinearRegression</label><div class=\"sk-toggleable__content\"><pre>LinearRegression()</pre></div></div></div></div></div>"
            ],
            "text/plain": [
              "LinearRegression()"
            ]
          },
          "execution_count": 17,
          "metadata": {},
          "output_type": "execute_result"
        }
      ],
      "source": [
        "# Fitting the data\n",
        "alg1.fit(X_train,Y_train)"
      ]
    },
    {
      "cell_type": "code",
      "execution_count": 18,
      "metadata": {},
      "outputs": [],
      "source": [
        "Y_pred = alg1.predict(X_test)"
      ]
    },
    {
      "cell_type": "code",
      "execution_count": 19,
      "metadata": {},
      "outputs": [
        {
          "data": {
            "image/png": "[encoded data removed]",
            "text/plain": [
              "<Figure size 432x288 with 1 Axes>"
            ]
          },
          "metadata": {
            "needs_background": "light"
          },
          "output_type": "display_data"
        }
      ],
      "source": [
        "import matplotlib.pyplot as plt\n",
        "plt.scatter(Y_pred,Y_test)\n",
        "plt.xlabel(\"Predictions\")\n",
        "plt.ylabel(\"Testing Data\")\n",
        "plt.axis([0,40,0,40])\n",
        "plt.show()"
      ]
    }
  ],
  "metadata": {
    "colab": {
      "name": "Intro to Machine Learning.ipynb",
      "provenance": []
    },
    "kernelspec": {
      "display_name": "Python 3.10.4 64-bit",
      "language": "python",
      "name": "python3"
    },
    "language_info": {
      "codemirror_mode": {
        "name": "ipython",
        "version": 3
      },
      "file_extension": ".py",
      "mimetype": "text/x-python",
      "name": "python",
      "nbconvert_exporter": "python",
      "pygments_lexer": "ipython3",
      "version": "3.10.4"
    },
    "vscode": {
      "interpreter": {
        "hash": "a42ccb73e7d9bfdf27e036f1d2b8b681e55fc0743cc5586bc2474d4a60f4b886"
      }
    }
  },
  "nbformat": 4,
  "nbformat_minor": 0
}
